{
 "cells": [
  {
   "cell_type": "markdown",
   "metadata": {},
   "source": [
    "## Noise-to-Aggregate-Ratio (NAR)"
   ]
  },
  {
   "cell_type": "code",
   "execution_count": 2,
   "metadata": {},
   "outputs": [
    {
     "name": "stdout",
     "output_type": "stream",
     "text": [
      "0.4.0.dev1+git.\n"
     ]
    }
   ],
   "source": [
    "import nilmtk\n",
    "print(nilmtk.__version__)"
   ]
  },
  {
   "cell_type": "markdown",
   "metadata": {},
   "source": [
    "### NAR: What is the noise level in a dataset?\n",
    "\n",
    "\n",
    "The aggregate power signal of a real-world dataset consists not exclusively of known appliance-level signals, but also contains several unknown appliance-level signals that contribute to the error term epsilon.\n",
    "\n",
    " The Noise-to-Aggregate Ratio, NAR, is defined as:\n",
    "\n",
    "![NAR](img/NAR.png)\n",
    "\n",
    "the ratio between noise and aggregate signal over a time window T,  where xi is the power consumption of appliance i, y the aggregate power signal, and T the length of the observed time frame. The noise-to-aggregate ratio (NAR) can be computed for all AC power types, as long as energy readings of aggregate and submeters are available.\n",
    "A ratio of 0.25 reports that 25\\% of the total energy consumption stems from unmetered appliances and noise. Hence, the ratio indicates to what degree information on the aggregate's components is available.\n",
    "\n",
    "#### Implementation\n",
    "\n",
    "Our source code builds on functions provided by [NILMTK](https://github.com/nilmtk/nilmtk) to foster reproducibility of results.\n",
    "Our implementation of the NAR can be obtained from *NAR.py* and defines the following function:\n",
    "\n",
    "```python\n",
    "from NAR import noise_aggregate_ratio\n",
    "\n",
    "NAR_p = noise_aggregate_ratio(elec, power_type='active')\n",
    "NAR_s = noise_aggregate_ratio(elec, power_type='apparent')\n",
    "```\n",
    "\n",
    "with the following input parameters:\n",
    "\n",
    "* *elec_meter:* MeterGroup object of a household or a simple [MeterGroup](http://nilmtk.github.io/nilmtk/master/_modules/nilmtk/metergroup.html)\n",
    "* *power_type:* String that defines the AC power type of interest: active or apparent"
   ]
  },
  {
   "cell_type": "markdown",
   "metadata": {},
   "source": [
    "## Usage Notes\n",
    "\n",
    "We will demonstrate the use of NAR by the help of a simple example. First, we have to load the dataset using NILMTK"
   ]
  },
  {
   "cell_type": "code",
   "execution_count": 4,
   "metadata": {},
   "outputs": [
    {
     "name": "stdout",
     "output_type": "stream",
     "text": [
      "MeterGroup(meters=\n",
      "  ElecMeter(instance=1, building=1, dataset='iAWE', site_meter, appliances=[])\n",
      "  ElecMeter(instance=2, building=1, dataset='iAWE', site_meter, appliances=[])\n",
      "  ElecMeter(instance=3, building=1, dataset='iAWE', appliances=[Appliance(type='fridge', instance=1)])\n",
      "  ElecMeter(instance=4, building=1, dataset='iAWE', appliances=[Appliance(type='air conditioner', instance=1)])\n",
      "  ElecMeter(instance=5, building=1, dataset='iAWE', appliances=[Appliance(type='air conditioner', instance=2)])\n",
      "  ElecMeter(instance=6, building=1, dataset='iAWE', appliances=[Appliance(type='washing machine', instance=1)])\n",
      "  ElecMeter(instance=7, building=1, dataset='iAWE', appliances=[Appliance(type='computer', instance=1)])\n",
      "  ElecMeter(instance=8, building=1, dataset='iAWE', appliances=[Appliance(type='clothes iron', instance=1)])\n",
      "  ElecMeter(instance=9, building=1, dataset='iAWE', appliances=[Appliance(type='unknown', instance=1)])\n",
      "  ElecMeter(instance=10, building=1, dataset='iAWE', appliances=[Appliance(type='television', instance=1)])\n",
      "  ElecMeter(instance=11, building=1, dataset='iAWE', appliances=[Appliance(type='wet appliance', instance=1)])\n",
      "  ElecMeter(instance=12, building=1, dataset='iAWE', appliances=[Appliance(type='motor', instance=1)])\n",
      ")\n"
     ]
    }
   ],
   "source": [
    "from nilmtk import DataSet\n",
    "from NAR import noise_aggregate_ratio\n",
    "\n",
    "d_dir = '/Users/christoph/datasets/'\n",
    "dataset = ['iAWE', 1]\n",
    "\n",
    "dset = DataSet(d_dir+'{}.h5'.format(dataset[0]))\n",
    "household = dataset[1]\n",
    "elec = dset.buildings[household].elec\n",
    "print(elec)"
   ]
  },
  {
   "cell_type": "markdown",
   "metadata": {},
   "source": [
    "Now, we can compute the NAR's for active and apprent power of iAWE:"
   ]
  },
  {
   "cell_type": "code",
   "execution_count": 10,
   "metadata": {},
   "outputs": [
    {
     "name": "stdout",
     "output_type": "stream",
     "text": [
      "Calculating total_energy for ElecMeterID(instance=2, building=1, dataset='iAWE') ...   63.0 %\n",
      "Calculating total_energy for ElecMeterID(instance=2, building=1, dataset='iAWE') ...   61.0 %\n"
     ]
    }
   ],
   "source": [
    "NAR_p = 100 * noise_aggregate_ratio(elec, power_type='active')\n",
    "print('{} %'.format(NAR_p))\n",
    "NAR_s = 100 * noise_aggregate_ratio(elec, power_type='apparent')\n",
    "print('{} %'.format(NAR_s))\n"
   ]
  },
  {
   "cell_type": "markdown",
   "metadata": {},
   "source": [
    "As we see, house 1 of iAWE has a NAR of 63 % for active power and a NAR of 61 % for apparent power."
   ]
  },
  {
   "cell_type": "markdown",
   "metadata": {},
   "source": [
    "#### Why should you use NAR and not proportion-of-energy?\n",
    "\n",
    "NILMTK includes a function called [*proportion_of_energy(self, other)*](http://nilmtk.github.io/nilmtk/master/_modules/nilmtk/electric.html#Electric.proportion_of_energy) that was introduced to report the amount of energy consumed by one appliance. However, we found some fundamental problems with that function, which must not be ignored.\n",
    "\n",
    "The first problem with this function is that it mixes active and apparent power during computation, which must not be done in any situation.\n",
    "\n",
    "```python\n",
    "elif n_shared_ac_types == 0:\n",
    "            ac_type = select_best_ac_type(self_ac_types)\n",
    "            other_ac_type = select_best_ac_type(other_ac_types)\n",
    "...\n",
    "return total_energy[ac_type] / other_total_energy[other_ac_type]\n",
    "\n",
    "```\n",
    "The second problem with this function is that it returns the average proportion of energy for several power types.\n",
    "```python\n",
    "if n_shared_ac_types > 1:\n",
    "            return (total_energy[shared_ac_types] /other_total_energy[shared_ac_types]).mean() \n",
    "```\n"
   ]
  },
  {
   "cell_type": "markdown",
   "metadata": {},
   "source": [
    "### NAR in common LF energy consumption data sets\n",
    "\n",
    "We derived the NAR with respect to active and apparent power for some of the most commonly-used energy consumption data sets. Please note that our focus is on their *low-frequency* version.\n",
    "\n",
    "| Data Set | House | Duration in days | Meters | NAR for P in \\%| NAR for S in \\%|\n",
    "|----------|-------:|------------------:|--------:|-----------:|-----------:|\n",
    "| AMPds2   |  1    | 730              |   20     |     18      |   6       |\n",
    "| COMBED   |  1    |  28              |   13    |    34        |    -    |\n",
    "| DRED     |  1    |  153             |   12     |   -       |     28    |\n",
    "| ECO      |  1    |  245             |   7     |    68        |     -      |\n",
    "| ECO      |  6    |  219             |   7     |    74        |   -        |\n",
    "| iAWE     |  1    |  73              |   10     |   63        |     61      |\n",
    "| REDD     |  1    |  36                |   16     |  -     |    -        |\n",
    "| REFIT    |  1    |  638              |    9    |     65      |   -       |\n",
    "| REFIT    |  8    |  555                |  9      |   78      |    -        |\n",
    "| REFIT    |  17   |  443             |     9   |      45      |   -       |\n",
    "| UK-DALE  |  1    |  658              |    52    |    33      |    87       |\n",
    "| UK-DALE  |  2    |  176             |     18   |     41      |  -       |\n",
    "| UK-DALE  |  5    |  137             |     24   |     31      |   -       |\n"
   ]
  },
  {
   "cell_type": "code",
   "execution_count": null,
   "metadata": {},
   "outputs": [],
   "source": []
  }
 ],
 "metadata": {
  "kernelspec": {
   "display_name": "Python (antgen)",
   "language": "python",
   "name": "similarity-env"
  },
  "language_info": {
   "codemirror_mode": {
    "name": "ipython",
    "version": 3
   },
   "file_extension": ".py",
   "mimetype": "text/x-python",
   "name": "python",
   "nbconvert_exporter": "python",
   "pygments_lexer": "ipython3",
   "version": "3.6.7"
  }
 },
 "nbformat": 4,
 "nbformat_minor": 2
}
